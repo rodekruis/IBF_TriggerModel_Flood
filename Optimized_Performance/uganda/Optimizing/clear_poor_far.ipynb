{
 "cells": [
  {
   "cell_type": "code",
   "execution_count": 9,
   "metadata": {},
   "outputs": [],
   "source": [
    "import pandas as pd\n",
    "uganda = pd.read_csv('C:/Users/patel/IBF_TriggerModel_Flood-1.1_global_discharge/uganda/output/Performance_scores/uga_glofas_performance_score.csv')\n",
    "uganda_clear = uganda[uganda['quantile']=='Q50_pred']\n",
    "uganda_clear = uganda_clear[uganda_clear['far']<0.9]"
   ]
  },
  {
   "cell_type": "code",
   "execution_count": 10,
   "metadata": {},
   "outputs": [
    {
     "data": {
      "text/plain": [
       "8"
      ]
     },
     "execution_count": 10,
     "metadata": {},
     "output_type": "execute_result"
    }
   ],
   "source": [
    "len(uganda_clear['district'].unique())"
   ]
  }
 ],
 "metadata": {
  "kernelspec": {
   "display_name": "Python 3",
   "language": "python",
   "name": "python3"
  },
  "language_info": {
   "codemirror_mode": {
    "name": "ipython",
    "version": 3
   },
   "file_extension": ".py",
   "mimetype": "text/x-python",
   "name": "python",
   "nbconvert_exporter": "python",
   "pygments_lexer": "ipython3",
   "version": "3.7.4"
  }
 },
 "nbformat": 4,
 "nbformat_minor": 4
}
